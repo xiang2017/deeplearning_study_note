{
 "cells": [
  {
   "cell_type": "markdown",
   "metadata": {},
   "source": [
    "# 手把手教你构建深度学习网络\n",
    "\n",
    "**目标：**\n",
    "* 构建不止一个隐藏层的神经网络\n",
    "* 学会使用 relu激活函数 的反向传播\n"
   ]
  },
  {
   "cell_type": "markdown",
   "metadata": {},
   "source": [
    "## 1.导入需要的库、数据\n"
   ]
  },
  {
   "cell_type": "code",
   "execution_count": 1,
   "metadata": {},
   "outputs": [],
   "source": [
    "import sys\n",
    "sys.path.append(\"..\")\n",
    "import numpy as np\n",
    "import matplotlib.pyplot as plt\n",
    "\n",
    "from data.read_cat_data import load_dataset   # 使用猫咪的样本训练\n",
    "\n",
    "%matplotlib inline\n",
    "\n",
    "np.random.seed(1)  # 指定随机数种子，这样得到的权重啥的每次都不会变"
   ]
  },
  {
   "cell_type": "code",
   "execution_count": 2,
   "metadata": {},
   "outputs": [
    {
     "name": "stdout",
     "output_type": "stream",
     "text": [
      "train_set_x_flatten shape: (12288, 2005)\n",
      "train_set_y shape: (1, 2005)\n",
      "test_set_x_flatten shape: (12288, 503)\n",
      "test_set_y shape: (1, 503)\n",
      "sanity check after reshaping: [247 255 255 247 255]\n"
     ]
    }
   ],
   "source": [
    "# 数据处理成一维，以及数据标准化（除以255）\n",
    "train_set_x_orig, Y, test_set_x_orig, test_Y, classes = load_dataset()\n",
    "\n",
    "train_set_x_flatten = train_set_x_orig.reshape(train_set_x_orig.shape[0], -1).T\n",
    "test_set_x_flatten = test_set_x_orig.reshape(test_set_x_orig.shape[0], -1).T\n",
    "\n",
    "print (\"train_set_x_flatten shape: \" + str(train_set_x_flatten.shape))\n",
    "print (\"train_set_y shape: \" + str(Y.shape))\n",
    "print (\"test_set_x_flatten shape: \" + str(test_set_x_flatten.shape))\n",
    "print (\"test_set_y shape: \" + str(test_Y.shape))\n",
    "print (\"sanity check after reshaping: \" + str(train_set_x_flatten[0:5,0]))\n",
    "\n",
    "X = train_set_x_flatten / 255\n",
    "test_X = test_set_x_flatten / 255"
   ]
  },
  {
   "cell_type": "markdown",
   "metadata": {},
   "source": [
    "## 2 - 任务大纲\n",
    "**整体大纲：**\n",
    "* 参数初始化\n",
    "* 前向传播（线性传播，线性激活传播，L层Model前向传播）\n",
    "* cost function\n",
    "* 反向传播（线性反向传播，线性激活反向传播，L层model反向传播，更新参数）\n",
    "* 组合成 deep_model"
   ]
  },
  {
   "cell_type": "markdown",
   "metadata": {},
   "source": [
    "## 3 - 初始化\n",
    "\n",
    "### 3.1 - 2层神经网络的参数初始化（回顾）"
   ]
  },
  {
   "cell_type": "code",
   "execution_count": 3,
   "metadata": {},
   "outputs": [],
   "source": [
    "def initialize_parameters(n_x, n_h, n_y):\n",
    "    \n",
    "    W1 = np.random.randn(n_h, n_x) * 0.1\n",
    "    b1 = np.zeros((n_h, 1))\n",
    "    W2 = np.random.randn(n_y, n_h) * 0.1\n",
    "    b2 = np.zeros((n_y, 1))\n",
    "    \n",
    "    return {\n",
    "        \"W1\": W1,\n",
    "        \"b1\": b1,\n",
    "        \"W2\": W2,\n",
    "        \"b2\": b2\n",
    "    }"
   ]
  },
  {
   "cell_type": "code",
   "execution_count": 4,
   "metadata": {},
   "outputs": [
    {
     "name": "stdout",
     "output_type": "stream",
     "text": [
      "{'W1': array([[ 0.16646511,  0.14747135, -0.13570815, -0.05913316,  0.03489697,\n",
      "        -0.00833146, -0.25781995, -0.04803664],\n",
      "       [ 0.11777694,  0.02135236, -0.00233068, -0.15091276,  0.10504432,\n",
      "        -0.09289275, -0.00861066,  0.13947749],\n",
      "       [ 0.02233249, -0.21169258, -0.02075255, -0.06162985, -0.08799015,\n",
      "         0.05994466, -0.09889946,  0.00402043],\n",
      "       [-0.05041846, -0.06789399, -0.24089803, -0.21682049,  0.12259785,\n",
      "        -0.12606845,  0.04666415, -0.08931865],\n",
      "       [ 0.01085673,  0.00641558,  0.00067795,  0.00222711, -0.10430364,\n",
      "        -0.06029706, -0.00221706,  0.04670966],\n",
      "       [ 0.17226361,  0.06064418,  0.00476993, -0.03146223,  0.09372917,\n",
      "         0.13075614,  0.03422094, -0.01267362]]), 'b1': array([[ 0.],\n",
      "       [ 0.],\n",
      "       [ 0.],\n",
      "       [ 0.],\n",
      "       [ 0.],\n",
      "       [ 0.]]), 'W2': array([[ 0.04167452, -0.10606481, -0.04439935,  0.10487268,  0.0753599 ,\n",
      "        -0.02258624]]), 'b2': array([[ 0.]])}\n"
     ]
    }
   ],
   "source": [
    "params = initialize_parameters(8, 6, 1)\n",
    "print(params)"
   ]
  },
  {
   "cell_type": "markdown",
   "metadata": {},
   "source": [
    "## 3.2 - L-layer size model\n",
    "\n",
    "$$size(W^{[L]}) = (dim(L), dim(L - 1))$$\n",
    "$$size(b^{[L]}) = (dim(L), 1)$$"
   ]
  },
  {
   "cell_type": "code",
   "execution_count": 25,
   "metadata": {},
   "outputs": [],
   "source": [
    "def initilize_parameters_deep(layer_dims):\n",
    "    parameters = {}\n",
    "    L = len(layer_dims)\n",
    "    for i in range(1, L):\n",
    "        parameters[\"W\" + str(i)] = np.random.randn(layer_dims[i], layer_dims[i - 1]) * 0.01\n",
    "        parameters[\"b\" + str(i)] = np.zeros((layer_dims[i], 1))\n",
    "    return parameters"
   ]
  },
  {
   "cell_type": "markdown",
   "metadata": {},
   "source": [
    "## 4 - 前向传播模型\n",
    "\n",
    "### 4.1 - 前向线性传播\n",
    "\n",
    "$$Z^{[l]} = W^{[l]}A^{[l - 1]} + b^{[l]}$$"
   ]
  },
  {
   "cell_type": "code",
   "execution_count": 6,
   "metadata": {},
   "outputs": [],
   "source": [
    "def linear_forward(A_prev, W, b):\n",
    "    Z = np.dot(W, A_prev) + b\n",
    "    linear_cache = (A_prev, W, b)\n",
    "    return Z, linear_cache"
   ]
  },
  {
   "cell_type": "markdown",
   "metadata": {},
   "source": [
    "### 4.2 - 线性激活前向传播\n",
    "\n",
    "使用一下两种激活函数：\n",
    "* **Sigmoid**:$\\sigma(Z) = \\sigma(WA + b) = \\frac{1}{1 + e^{-(WA + b)}}$\n",
    "* **ReLu**: $A = max(0, Z)$"
   ]
  },
  {
   "cell_type": "code",
   "execution_count": 7,
   "metadata": {},
   "outputs": [],
   "source": [
    "def sigmoid(Z):\n",
    "    A = 1 / (1 + np.exp(-Z))\n",
    "    return A, {\n",
    "        \"Z\" : Z,\n",
    "        \"A\" : A\n",
    "    }\n",
    "\n",
    "def relu(Z):\n",
    "    A = np.maximum(0,Z)\n",
    "    return A, {\n",
    "        \"Z\": Z,\n",
    "        \"A\": A\n",
    "    }\n",
    "\n",
    "def linear_activition_forward(A_prev, W, b, activition):\n",
    "    if activition == 'sigmoid':\n",
    "        Z, linear_cache = linear_forward(A_prev, W, b)\n",
    "        A, activition_cache = sigmoid(Z)\n",
    "    elif activition == 'relu':\n",
    "        Z, linear_cache = linear_forward(A_prev, W, b)\n",
    "        A, activition_cache = relu(Z)\n",
    "    cache = (linear_cache, activition_cache)\n",
    "    return A, cache"
   ]
  },
  {
   "cell_type": "markdown",
   "metadata": {},
   "source": [
    "**实现 L-layer 模型的前向传播：**"
   ]
  },
  {
   "cell_type": "code",
   "execution_count": 8,
   "metadata": {},
   "outputs": [],
   "source": [
    "def L_model_forward(X, parameters):\n",
    "    caches = []\n",
    "    A = X\n",
    "    L = len(parameters) // 2 # parameters 长度的一般是层的数量（不包括输入层）\n",
    "    for l in range(1, L + 1):\n",
    "        A_prev = A\n",
    "        if l == L:\n",
    "            activition = 'sigmoid'\n",
    "        else:\n",
    "            activition = 'relu'\n",
    "            \n",
    "        A, cache = linear_activition_forward(A_prev, parameters['W' + str(l)], parameters['b' + str(l)], activition)\n",
    "        \n",
    "        caches.append(cache)\n",
    "    \n",
    "    AL = A\n",
    "#     assert(AL.shape == (1,X.shape[1]))\n",
    "    \n",
    "    return AL, caches\n"
   ]
  },
  {
   "cell_type": "markdown",
   "metadata": {},
   "source": [
    "## 5 - 计算 cost funciton"
   ]
  },
  {
   "cell_type": "code",
   "execution_count": 9,
   "metadata": {},
   "outputs": [],
   "source": [
    "def compute_cost(AL, Y):\n",
    "    m = Y.shape[1]\n",
    "    cost = - (np.sum(Y * np.log(AL) + (1 - Y) * np.log(1 - AL))) / m\n",
    "    cost = np.squeeze(cost)\n",
    "    return cost"
   ]
  },
  {
   "cell_type": "markdown",
   "metadata": {},
   "source": [
    "## 6 - 反向传播模型\n",
    "\n",
    "为了实现反向传播，首先要构造三个反向传播函数：\n",
    "\n",
    "* 线性反向传播 linear backward\n",
    "* ReLu 线性激活反向传播 relu backward\n",
    "* Sigmoid 线性激活反向传播 sigmoid backward"
   ]
  },
  {
   "cell_type": "markdown",
   "metadata": {},
   "source": [
    "### 6.1 - 线性反向传播\n",
    "\n",
    "由 $$Z^{[l]} = W^{[l]}A^{[l - 1]} + b^{[l]}$$\n",
    "\n",
    "得 $$dA^{[l - 1]} = W^{[1]T}dZ^{[1]}$$\n",
    "$$dW^{[l]} = \\frac{1}{m} dZ^{[l]}A^{[l-1]T}$$\n",
    "$$db^{[l]} = np.sum(dZ^{[l]}, axis=1, keepdims=True)$$"
   ]
  },
  {
   "cell_type": "code",
   "execution_count": 22,
   "metadata": {},
   "outputs": [],
   "source": [
    "def linear_backward(dZ, linear_cache):\n",
    "    A_prev, W, b = linear_cache\n",
    "    m = A_prev.shape[1]\n",
    "    \n",
    "    dW = np.dot(dZ, A_prev.T) / m\n",
    "    dA_prev = np.dot(W.T, dZ)\n",
    "    db = np.sum(dZ, axis=1, keepdims=True) / m\n",
    "    \n",
    "    return dA_prev, dW, db\n"
   ]
  },
  {
   "cell_type": "markdown",
   "metadata": {},
   "source": [
    "### 6.2 - 线性激活反向传播\n",
    "\n",
    "为了实现**linear_activition_backward**，首先要实现以下两个函数：\n",
    "* **sigmoid_backward** `dZ = sigmoid_backward(dA, activition_cache)`\n",
    "* **relu_backward** `dZ = relu_backward(dA, activition_cache)`"
   ]
  },
  {
   "cell_type": "code",
   "execution_count": null,
   "metadata": {},
   "outputs": [],
   "source": [
    "def sigmoid_backward(dA, activition_cache):\n",
    "    Z = activition_cache['Z']\n",
    "\n",
    "    s = 1/(1+np.exp(-Z))\n",
    "    dZ = dA * s * (1-s)\n",
    "    \n",
    "    return dZ\n",
    "\n",
    "def relu_backward(dA, activition_cache):\n",
    "    Z = activition_cache['Z']\n",
    "    \n",
    "    dZ = np.array(dA, copy=True) # just converting dz to a correct object.\n",
    "\n",
    "    # When z <= 0, you should set dz to 0 as well. \n",
    "    dZ[Z <= 0] = 0\n",
    "\n",
    "    return dZ\n",
    "\n",
    "def linear_activition_backward(dA, cache, activition):\n",
    "    linear_cache, activition_cache = cache\n",
    "    \n",
    "    if activition == 'relu':\n",
    "        dZ = relu_backward(dA, activition_cache)\n",
    "        dA_prev, dW, db = linear_backward(dZ, linear_cache)\n",
    "    elif activition == 'sigmoid':\n",
    "        dZ = sigmoid_backward(dA, activition_cache)\n",
    "        dA_prev, dW, db = linear_backward(dZ, linear_cache)\n",
    "    \n",
    "    return dA_prev, dW, db\n"
   ]
  },
  {
   "cell_type": "markdown",
   "metadata": {},
   "source": [
    "### 6.3 - L-layer 反向传播，求梯度 grads\n",
    "\n",
    "根据 loss 公式，求 $dA^{[L]} = - \\frac{Y}{AL} - \\frac{1-Y}{1-AL}$"
   ]
  },
  {
   "cell_type": "code",
   "execution_count": 12,
   "metadata": {},
   "outputs": [],
   "source": [
    "def L_layer_model(AL, Y, caches):\n",
    "    grads = {}\n",
    "    \n",
    "    L = len(caches) # 层数（不包括输入层）\n",
    "    m = Y.shape[1]\n",
    "    \n",
    "    dAL = -np.divide(Y, AL) - np.divide(1-Y, 1-AL)\n",
    "    \n",
    "    current_cache = caches[L - 1]\n",
    "    grads['dA' + str(L - 1)], grads['dW' + str(L)], grads['db' + str(L)] = linear_activition_backward(dAL, current_cache, 'sigmoid')\n",
    "    \n",
    "    for l in reversed(range(1, L)):\n",
    "        current_cache = caches[l - 1]\n",
    "        grads['dA' + str(l - 1)], grads['dW' + str(l)], grads['db' + str(l)] = linear_activition_backward(grads['dA' + str(l)], current_cache, 'relu')\n",
    "    \n",
    "    return grads"
   ]
  },
  {
   "cell_type": "markdown",
   "metadata": {},
   "source": [
    "### 6.4 - 更新参数\n"
   ]
  },
  {
   "cell_type": "code",
   "execution_count": 13,
   "metadata": {},
   "outputs": [],
   "source": [
    "def update_parameters(parameters, grads, learning_rate):\n",
    "    L = len(parameters) // 2 # number of layers in the neural network\n",
    "    # Update rule for each parameter. Use a for loop.\n",
    "#     print(parameters)\n",
    "#     print(grads)\n",
    "    ### START CODE HERE ### (≈ 3 lines of code)\n",
    "    for l in range(L):\n",
    "        parameters[\"W\" + str(l+1)] -= learning_rate * grads[\"dW\" + str(l+1)]\n",
    "        parameters[\"b\" + str(l+1)] -= learning_rate * grads[\"db\" + str(l+1)]\n",
    "    \n",
    "    ### END CODE HERE ###\n",
    "    return parameters"
   ]
  },
  {
   "cell_type": "markdown",
   "metadata": {},
   "source": [
    "## 7 - 合并成 deep_nn_model"
   ]
  },
  {
   "cell_type": "code",
   "execution_count": 19,
   "metadata": {},
   "outputs": [],
   "source": [
    "def deep_nn_model(X, Y, layer_dims, learning_rate=0.5, num_iterations=2000, print_cost=False):\n",
    "    parameters = initilize_parameters_deep(layer_dims)\n",
    "    \n",
    "    costs = []\n",
    "    for i in range(num_iterations + 1):\n",
    "        AL, caches = L_model_forward(X, parameters)\n",
    "        grads = L_layer_model(AL, Y, caches)\n",
    "        \n",
    "        parameters = update_parameters(parameters, grads, learning_rate)\n",
    "        if i % 20 == 0:\n",
    "            cost = compute_cost(AL, Y)\n",
    "            costs.append(cost)\n",
    "            if print_cost:\n",
    "                print(\"迭代 %d 次后\" % (i), \"cost: %f\" % cost)\n",
    "    \n",
    "    return parameters, costs"
   ]
  },
  {
   "cell_type": "code",
   "execution_count": 29,
   "metadata": {},
   "outputs": [
    {
     "name": "stdout",
     "output_type": "stream",
     "text": [
      "迭代 0 次后 cost: 0.693274\n",
      "迭代 20 次后 cost: 0.692872\n",
      "迭代 40 次后 cost: 0.692471\n",
      "迭代 60 次后 cost: 0.692072\n",
      "迭代 80 次后 cost: 0.691675\n",
      "迭代 100 次后 cost: 0.691279\n",
      "迭代 120 次后 cost: 0.690884\n",
      "迭代 140 次后 cost: 0.690491\n",
      "迭代 160 次后 cost: 0.690100\n",
      "迭代 180 次后 cost: 0.689710\n",
      "迭代 200 次后 cost: 0.689321\n",
      "迭代 220 次后 cost: 0.688933\n",
      "迭代 240 次后 cost: 0.688546\n",
      "迭代 260 次后 cost: 0.688161\n",
      "迭代 280 次后 cost: 0.687776\n",
      "迭代 300 次后 cost: 0.687392\n",
      "迭代 320 次后 cost: 0.687009\n",
      "迭代 340 次后 cost: 0.686627\n",
      "迭代 360 次后 cost: 0.686245\n",
      "迭代 380 次后 cost: 0.685864\n",
      "迭代 400 次后 cost: 0.685484\n",
      "迭代 420 次后 cost: 0.685103\n",
      "迭代 440 次后 cost: 0.684724\n",
      "迭代 460 次后 cost: 0.684344\n",
      "迭代 480 次后 cost: 0.683965\n",
      "迭代 500 次后 cost: 0.683586\n",
      "迭代 520 次后 cost: 0.683207\n",
      "迭代 540 次后 cost: 0.682828\n",
      "迭代 560 次后 cost: 0.682449\n",
      "迭代 580 次后 cost: 0.682070\n",
      "迭代 600 次后 cost: 0.681691\n",
      "迭代 620 次后 cost: 0.681312\n",
      "迭代 640 次后 cost: 0.680932\n",
      "迭代 660 次后 cost: 0.680552\n",
      "迭代 680 次后 cost: 0.680171\n",
      "迭代 700 次后 cost: 0.679790\n",
      "迭代 720 次后 cost: 0.679408\n",
      "迭代 740 次后 cost: 0.679025\n",
      "迭代 760 次后 cost: 0.678641\n",
      "迭代 780 次后 cost: 0.678257\n",
      "迭代 800 次后 cost: 0.677871\n",
      "迭代 820 次后 cost: 0.677485\n",
      "迭代 840 次后 cost: 0.677097\n",
      "迭代 860 次后 cost: 0.676708\n",
      "迭代 880 次后 cost: 0.676317\n",
      "迭代 900 次后 cost: 0.675925\n",
      "迭代 920 次后 cost: 0.675532\n",
      "迭代 940 次后 cost: 0.675136\n",
      "迭代 960 次后 cost: 0.674738\n",
      "迭代 980 次后 cost: 0.674339\n",
      "迭代 1000 次后 cost: 0.673937\n",
      "迭代 1020 次后 cost: 0.673533\n",
      "迭代 1040 次后 cost: 0.673126\n",
      "迭代 1060 次后 cost: 0.672717\n",
      "迭代 1080 次后 cost: 0.672305\n",
      "迭代 1100 次后 cost: 0.671889\n",
      "迭代 1120 次后 cost: 0.671471\n",
      "迭代 1140 次后 cost: 0.671049\n",
      "迭代 1160 次后 cost: 0.670623\n",
      "迭代 1180 次后 cost: 0.670193\n",
      "迭代 1200 次后 cost: 0.669760\n",
      "迭代 1220 次后 cost: 0.669322\n",
      "迭代 1240 次后 cost: 0.668879\n",
      "迭代 1260 次后 cost: 0.668432\n",
      "迭代 1280 次后 cost: 0.667979\n",
      "迭代 1300 次后 cost: 0.667522\n",
      "迭代 1320 次后 cost: 0.667058\n",
      "迭代 1340 次后 cost: 0.666589\n",
      "迭代 1360 次后 cost: 0.666114\n",
      "迭代 1380 次后 cost: 0.665632\n",
      "迭代 1400 次后 cost: 0.665143\n",
      "迭代 1420 次后 cost: 0.664647\n",
      "迭代 1440 次后 cost: 0.664143\n",
      "迭代 1460 次后 cost: 0.663631\n",
      "迭代 1480 次后 cost: 0.663111\n",
      "迭代 1500 次后 cost: 0.662582\n",
      "迭代 1520 次后 cost: 0.662043\n",
      "迭代 1540 次后 cost: 0.661495\n",
      "迭代 1560 次后 cost: 0.660937\n",
      "迭代 1580 次后 cost: 0.660369\n",
      "迭代 1600 次后 cost: 0.659789\n",
      "迭代 1620 次后 cost: 0.659198\n",
      "迭代 1640 次后 cost: 0.658595\n",
      "迭代 1660 次后 cost: 0.657980\n",
      "迭代 1680 次后 cost: 0.657351\n",
      "迭代 1700 次后 cost: 0.656709\n",
      "迭代 1720 次后 cost: 0.656052\n",
      "迭代 1740 次后 cost: 0.655382\n",
      "迭代 1760 次后 cost: 0.654696\n",
      "迭代 1780 次后 cost: 0.653994\n",
      "迭代 1800 次后 cost: 0.653276\n",
      "迭代 1820 次后 cost: 0.652542\n",
      "迭代 1840 次后 cost: 0.651791\n",
      "迭代 1860 次后 cost: 0.651023\n",
      "迭代 1880 次后 cost: 0.650239\n",
      "迭代 1900 次后 cost: 0.649437\n",
      "迭代 1920 次后 cost: 0.648619\n",
      "迭代 1940 次后 cost: 0.647784\n",
      "迭代 1960 次后 cost: 0.646933\n",
      "迭代 1980 次后 cost: 0.646068\n",
      "迭代 2000 次后 cost: 0.645190\n"
     ]
    },
    {
     "data": {
      "image/png": "[encoded data removed]",
      "text/plain": [
       "<Figure size 432x288 with 1 Axes>"
      ]
     },
     "metadata": {},
     "output_type": "display_data"
    }
   ],
   "source": [
    "np.seterr(divide='ignore', invalid='ignore')\n",
    "# 注意 learning rate 的大小选择，有可能太大导致以后的计算结果变成 nan\n",
    "parameters, costs = deep_nn_model(X, Y, [12288, 192, 24, 1], 0.0002, 2000, True)\n",
    "plt.plot(costs)\n",
    "plt.ylabel('cost')\n",
    "plt.xlabel('iteration (per 20)')\n",
    "plt.title('learning rate:' + str(0.5))\n",
    "plt.show()"
   ]
  },
  {
   "cell_type": "code",
   "execution_count": null,
   "metadata": {},
   "outputs": [],
   "source": []
  },
  {
   "cell_type": "code",
   "execution_count": null,
   "metadata": {},
   "outputs": [],
   "source": []
  }
 ],
 "metadata": {
  "kernelspec": {
   "display_name": "Python 3",
   "language": "python",
   "name": "python3"
  },
  "language_info": {
   "codemirror_mode": {
    "name": "ipython",
    "version": 3
   },
   "file_extension": ".py",
   "mimetype": "text/x-python",
   "name": "python",
   "nbconvert_exporter": "python",
   "pygments_lexer": "ipython3",
   "version": "3.6.2"
  }
 },
 "nbformat": 4,
 "nbformat_minor": 2
}
