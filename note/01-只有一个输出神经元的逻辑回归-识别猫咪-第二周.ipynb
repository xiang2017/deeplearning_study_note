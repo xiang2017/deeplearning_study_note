{
 "cells": [
  {
   "cell_type": "markdown",
   "metadata": {},
   "source": [
    "# 带有一个输入神经元的逻辑回归\n",
    "\n",
    "**目标**：\n",
    "* 构建基础的神经网络结构\n",
    "    - 参数初始化\n",
    "    - 计算 cost function 和它的 导数\n",
    "    - 应用优化算法（梯度下降）\n",
    "* 合并以上三个function到一个 model function 里"
   ]
  },
  {
   "cell_type": "markdown",
   "metadata": {},
   "source": [
    "## 1 - Packages\n",
    "\n",
    "* numpy\n",
    "* h5py\n",
    "* matplotlib 图标工具\n",
    "* PIL 和 scipy"
   ]
  },
  {
   "cell_type": "code",
   "execution_count": 1,
   "metadata": {},
   "outputs": [],
   "source": [
    "import sys\n",
    "sys.path.append('..')\n",
    "# 如果新增了模块，需要重启该脚本\n",
    "from data.read_cat_data import load_dataset\n",
    "\n",
    "import numpy as np\n",
    "import matplotlib.pyplot as plt\n",
    "import h5py\n",
    "import scipy\n",
    "from PIL import Image\n",
    "from scipy import ndimage\n",
    "\n",
    "\n",
    "%matplotlib inline"
   ]
  },
  {
   "cell_type": "markdown",
   "metadata": {},
   "source": [
    "## 2 - 问题描述\n",
    "\n",
    "现有以下数据：\n",
    " - 一个训练集，包括输入x（images），输出标签y，y=1表示是cat，y=0表示不是cat\n",
    " - 一个测试集\n",
    " - 每张图片的 shape 是 （64,64,3），其中 3 代表 rgb.\n",
    "\n",
    "通过以下代码加载数据："
   ]
  },
  {
   "cell_type": "code",
   "execution_count": 2,
   "metadata": {},
   "outputs": [],
   "source": [
    "train_set_x_orig, train_set_y, test_set_x_orig, test_set_y, classes = load_dataset()"
   ]
  },
  {
   "cell_type": "markdown",
   "metadata": {},
   "source": [
    "在 train_set_x 后面加 _orig 是因为待会儿我们要对数据集做处理\n",
    "\n",
    "每一行的 train_set_x 代表一张图片，我们用下面的代码查看图片："
   ]
  },
  {
   "cell_type": "code",
   "execution_count": 5,
   "metadata": {},
   "outputs": [
    {
     "name": "stdout",
     "output_type": "stream",
     "text": [
      "y = [1], it's a 'cat' picture.\n"
     ]
    },
    {
     "data": {
      "image/png": "[encoded data removed]",
      "text/plain": [
       "<Figure size 432x288 with 1 Axes>"
      ]
     },
     "metadata": {},
     "output_type": "display_data"
    }
   ],
   "source": [
    "# 图片示例\n",
    "index = 150\n",
    "plt.imshow(train_set_x_orig[index])\n",
    "print (\"y = \" + str(train_set_y[:, index]) + \", it's a '\" + classes[np.squeeze(train_set_y[:, index])] +  \"' picture.\")"
   ]
  },
  {
   "cell_type": "markdown",
   "metadata": {},
   "source": [
    "在构造神经网络时，很多bug是由于矩阵/向量的维度不匹配导致的。处理好维度问题能够规避很多错误。\n",
    "\n",
    "**获取数据集大小，shape 等**"
   ]
  },
  {
   "cell_type": "code",
   "execution_count": 6,
   "metadata": {},
   "outputs": [
    {
     "name": "stdout",
     "output_type": "stream",
     "text": [
      "Number of training examples: m_train = 2005\n",
      "Number of testing examples: m_test = 503\n",
      "Height/Width of each image: num_px = 64\n",
      "Each image is of size: (64, 64, 3)\n",
      "train_set_x shape: (2005, 64, 64, 3)\n",
      "train_set_y shape: (1, 2005)\n",
      "test_set_x shape: (503, 64, 64, 3)\n",
      "test_set_y shape: (1, 503)\n"
     ]
    }
   ],
   "source": [
    "m_train = train_set_x_orig.shape[0]\n",
    "m_test = test_set_x_orig.shape[0]\n",
    "num_px = train_set_x_orig.shape[1]\n",
    "\n",
    "print (\"Number of training examples: m_train = \" + str(m_train))\n",
    "print (\"Number of testing examples: m_test = \" + str(m_test))\n",
    "print (\"Height/Width of each image: num_px = \" + str(num_px))\n",
    "print (\"Each image is of size: (\" + str(num_px) + \", \" + str(num_px) + \", 3)\")\n",
    "print (\"train_set_x shape: \" + str(train_set_x_orig.shape))\n",
    "print (\"train_set_y shape: \" + str(train_set_y.shape))\n",
    "print (\"test_set_x shape: \" + str(test_set_x_orig.shape))\n",
    "print (\"test_set_y shape: \" + str(test_set_y.shape))"
   ]
  },
  {
   "cell_type": "code",
   "execution_count": 7,
   "metadata": {
    "scrolled": true
   },
   "outputs": [
    {
     "name": "stdout",
     "output_type": "stream",
     "text": [
      "2005\n"
     ]
    }
   ],
   "source": [
    "print(train_set_x_orig.shape[0])"
   ]
  },
  {
   "cell_type": "markdown",
   "metadata": {},
   "source": [
    "为了方便计算，接下来需要对输入数据进行降维处理。把 shape 为（高，宽，深度）的图片处理成（高\\*宽\\*深度, 1）。\n",
    "\n",
    "```python\n",
    "X_flatten = X.reshape(X.shape[0], -1).T      # X.T is the transpose of X\n",
    "```"
   ]
  },
  {
   "cell_type": "code",
   "execution_count": 8,
   "metadata": {},
   "outputs": [
    {
     "name": "stdout",
     "output_type": "stream",
     "text": [
      "train_set_x_flatten shape: (12288, 2005)\n",
      "train_set_y shape: (1, 2005)\n",
      "test_set_x_flatten shape: (12288, 503)\n",
      "test_set_y shape: (1, 503)\n",
      "sanity check after reshaping: [244 253 255 242 250]\n"
     ]
    }
   ],
   "source": [
    "train_set_x_flatten = train_set_x_orig.reshape(train_set_x_orig.shape[0], -1).T\n",
    "test_set_x_flatten = test_set_x_orig.reshape(test_set_x_orig.shape[0], -1).T\n",
    "\n",
    "print (\"train_set_x_flatten shape: \" + str(train_set_x_flatten.shape))\n",
    "print (\"train_set_y shape: \" + str(train_set_y.shape))\n",
    "print (\"test_set_x_flatten shape: \" + str(test_set_x_flatten.shape))\n",
    "print (\"test_set_y shape: \" + str(test_set_y.shape))\n",
    "print (\"sanity check after reshaping: \" + str(train_set_x_flatten[0:5,0]))"
   ]
  },
  {
   "cell_type": "markdown",
   "metadata": {},
   "source": [
    "表示图片的每个像素点rgb的值都在 0 到 255 之间。\n",
    "\n",
    "在机器学习中常用的一种数据处理方法，是数据的中心化和标准化，这意味着你需要对整个数据集除以标准差。但是对于图片数据，最简便的做法是直接除以 255."
   ]
  },
  {
   "cell_type": "code",
   "execution_count": 9,
   "metadata": {},
   "outputs": [],
   "source": [
    "train_set_x = train_set_x_flatten / 255\n",
    "test_set_x = test_set_x_flatten / 255"
   ]
  },
  {
   "cell_type": "markdown",
   "metadata": {},
   "source": [
    "<font color='blue'>\n",
    "**note**:\n",
    "    * 弄清楚数据的 shape\n",
    "    * reshape 数据，得到合适的数据结构\n",
    "    * 标准化数据"
   ]
  },
  {
   "cell_type": "markdown",
   "metadata": {},
   "source": [
    "## 3 - 构造学习算法图\n",
    "\n",
    "对于一个样例$x^{(i)}$:\n",
    "\n",
    "$$z^{(i)} = w^{T}x{(i)} + b$$\n",
    "$$\\hat{y}^{(i)} = a^{(i)} = sigmoid(z^{(i)})$$\n",
    "$$L(a^{(i)}, y^{(i)}) = -y^{(i)}log(a^{(i)} - (1 - y^{(i)})log(1 - a^{(i)}))$$\n",
    "\n",
    "通过对有所的训练集的loss求和，得到cost:\n",
    "    $$J = \\frac{1}{m}\\sum_{i=1}^{m}L(a^{(i)}, y^{(i)})$$\n",
    "    \n",
    "**关键步骤**\n",
    "* 初始化模型的参数\n",
    "* 梯度下降，使cost最小化\n",
    "* 使用训练好的模型预测数据\n",
    "* 分析结果"
   ]
  },
  {
   "cell_type": "markdown",
   "metadata": {},
   "source": [
    "## 4 - 构造部分算法\n",
    "\n",
    "构建神经网络的主要步骤如下：\n",
    "1 定义模型结构（例如输入特征数量）\n",
    "2 初始化模型参数\n",
    "3 loop:\n",
    "    * 计算当前loss（前向传播）\n",
    "    * 计算当前梯度（反向传播）\n",
    "    * 更新参数（梯度下降）\n",
    "    \n",
    "### 4.1 - 辅助函数\n",
    "\n",
    "实现**sigmoid**函数"
   ]
  },
  {
   "cell_type": "code",
   "execution_count": 10,
   "metadata": {},
   "outputs": [
    {
     "name": "stdout",
     "output_type": "stream",
     "text": [
      "[ 0.5         0.88079708]\n"
     ]
    }
   ],
   "source": [
    "def sigmoid(z):\n",
    "    return 1/(1 + np.exp(-z))\n",
    "\n",
    "print(sigmoid(np.array([0, 2])))"
   ]
  },
  {
   "cell_type": "markdown",
   "metadata": {},
   "source": [
    "### 4.2 - 初始化参数\n",
    "\n",
    "使用 np.zeros 函数构造参数 w,b"
   ]
  },
  {
   "cell_type": "code",
   "execution_count": 11,
   "metadata": {},
   "outputs": [
    {
     "name": "stdout",
     "output_type": "stream",
     "text": [
      "[[ 0.]\n",
      " [ 0.]] 0\n"
     ]
    }
   ],
   "source": [
    "def initialize_with_zeros(dim):\n",
    "    w = np.zeros((dim, 1))\n",
    "    b = 0\n",
    "    return w, b\n",
    "\n",
    "dim = 2\n",
    "w, b = initialize_with_zeros(dim)\n",
    "print(w, b)"
   ]
  },
  {
   "cell_type": "markdown",
   "metadata": {},
   "source": [
    "对于图片输入，w 的 shape 因该是 (num_px \\* numpx \\* 3, 1)"
   ]
  },
  {
   "cell_type": "markdown",
   "metadata": {},
   "source": [
    "### 4.3 - 前向传播，反向传播\n",
    "\n",
    "实现 `propagate()` 函数，计算 cost function 和 梯度\n",
    "\n",
    "**前向传播**\n",
    "* x\n",
    "* 计算 $A = \\sigma(w^TX + b) = (a^{(1)}, a^{(2)}, ... a^{(m)})$\n",
    "* 计算 cost function $ J = -\\frac{1}{m}\\sum_{i=1}^{m}(y^{i}log(a^{(i)}) + (1-y^{(i)})log(1-a^{(i)}))$\n",
    "\n",
    "另外两个需要的公式：\n",
    "$$\\frac{\\partial J}{\\partial w} = \\frac{1}{m}X(A - Y)^T$$\n",
    "$$\\frac{\\partial J}{\\partial b} = \\frac{1}{m}\\sum_{i=1}^{m}(a^{(i)} - y^{(i)})$$"
   ]
  },
  {
   "cell_type": "code",
   "execution_count": 20,
   "metadata": {},
   "outputs": [],
   "source": [
    "def propagate(w, b, X, Y):\n",
    "    \"\"\"\n",
    "    Arguments:\n",
    "    w -- weights, a numpy array of size (num_px * num_px * 3, 1)\n",
    "    b -- bias, a scalar\n",
    "    X -- data of size (num_px * num_px * 3, number of examples)\n",
    "    Y -- true \"label\" vector (containing 0 if non-cat, 1 if cat) of size (1, number of examples)\n",
    "\n",
    "    Return:\n",
    "    cost -- negative log-likelihood cost for logistic regression\n",
    "    dw -- gradient of the loss with respect to w, thus same shape as w\n",
    "    db -- gradient of the loss with respect to b, thus same shape as b\n",
    "    \"\"\"\n",
    "    m = X.shape[1]\n",
    "    A = sigmoid(w.T.dot(X) + b)     # 计算 activation\n",
    "    cost = -np.sum(Y*np.log(A) + (1-Y)*np.log(1-A)) / m                      # compute cost\n",
    "    \n",
    "    dw = X.dot((A-Y).T) / m\n",
    "    db = np.sum(A - Y) / m\n",
    "    \n",
    "    assert(dw.shape == w.shape)\n",
    "    assert(db.dtype == float)\n",
    "    cost = np.squeeze(cost)\n",
    "    assert(cost.shape == ())\n",
    "    \n",
    "    grads = {\"dw\": dw,\n",
    "             \"db\": db}\n",
    "    \n",
    "    return grads, cost"
   ]
  },
  {
   "cell_type": "code",
   "execution_count": 21,
   "metadata": {},
   "outputs": [
    {
     "name": "stdout",
     "output_type": "stream",
     "text": [
      "dw = [[ 0.99845601]\n",
      " [ 2.39507239]]\n",
      "db = 0.00145557813678\n",
      "cost = 5.80154531939\n"
     ]
    }
   ],
   "source": [
    "w, b, X, Y = np.array([[1.],[2.]]), 2., np.array([[1.,2.,-1.],[3.,4.,-3.2]]), np.array([[1,0,1]])\n",
    "grads, cost = propagate(w, b, X, Y)\n",
    "print (\"dw = \" + str(grads[\"dw\"]))\n",
    "print (\"db = \" + str(grads[\"db\"]))\n",
    "print (\"cost = \" + str(cost))"
   ]
  },
  {
   "cell_type": "markdown",
   "metadata": {},
   "source": [
    "### 4.4 - 优化\n",
    "\n",
    "是有梯度下降优化算法\n",
    "\n",
    "$\\theta = \\theta - \\alpha d \\theta$"
   ]
  },
  {
   "cell_type": "code",
   "execution_count": 14,
   "metadata": {},
   "outputs": [],
   "source": [
    "def optimize(w, b, X, Y, num_iterations, learning_rate, print_cost=False):\n",
    "    \"\"\"\n",
    "    Arguments:\n",
    "    w -- weights, a numpy array of size (num_px * num_px * 3, 1)\n",
    "    b -- bias, a scalar\n",
    "    X -- data of shape (num_px * num_px * 3, number of examples)\n",
    "    Y -- true \"label\" vector (containing 0 if non-cat, 1 if cat), of shape (1, number of examples)\n",
    "    num_iterations -- number of iterations of the optimization loop\n",
    "    learning_rate -- learning rate of the gradient descent update rule\n",
    "    print_cost -- True to print the loss every 100 steps\n",
    "    \n",
    "    Returns:\n",
    "    params -- dictionary containing the weights w and bias b\n",
    "    grads -- dictionary containing the gradients of the weights and bias with respect to the cost function\n",
    "    costs -- list of all the costs computed during the optimization, this will be used to plot the learning curve.\n",
    "    \"\"\"\n",
    "    \n",
    "    costs = []\n",
    "    \n",
    "    for i in range(num_iterations):\n",
    "        grads, cost = propagate(w, b, X, Y)\n",
    "        \n",
    "        dw = grads['dw']\n",
    "        db = grads['db']\n",
    "        \n",
    "        # update\n",
    "        w = w - learning_rate * dw\n",
    "        b = b - learning_rate * db\n",
    "        \n",
    "        if i % 100 == 0:\n",
    "            costs.append(cost)\n",
    "        \n",
    "        if print_cost and i % 100 == 0:\n",
    "            print(\"cost after %i iteration: %f\" % (i, cost))\n",
    "    \n",
    "    params = {\n",
    "        'w': w,\n",
    "        'b': b\n",
    "    }\n",
    "    \n",
    "    grads = {\n",
    "        'dw': dw,\n",
    "        'db': db\n",
    "    }\n",
    "    \n",
    "    return params, grads, costs\n"
   ]
  },
  {
   "cell_type": "code",
   "execution_count": 15,
   "metadata": {},
   "outputs": [
    {
     "name": "stdout",
     "output_type": "stream",
     "text": [
      "w = [[ 0.19033591]\n",
      " [ 0.12259159]]\n",
      "b = 1.92535983008\n",
      "dw = [[ 0.67752042]\n",
      " [ 1.41625495]]\n",
      "db = 0.219194504541\n"
     ]
    }
   ],
   "source": [
    "params, grads, costs = optimize(w, b, X, Y, num_iterations= 100, learning_rate = 0.009, print_cost = False)\n",
    "\n",
    "print (\"w = \" + str(params[\"w\"]))\n",
    "print (\"b = \" + str(params[\"b\"]))\n",
    "print (\"dw = \" + str(grads[\"dw\"]))\n",
    "print (\"db = \" + str(grads[\"db\"]))"
   ]
  },
  {
   "cell_type": "markdown",
   "metadata": {},
   "source": [
    "上述函数返回了训练好的 w,b 参数，接下来要使用该参数进行预测\n",
    "\n",
    "* 计算 $\\hat{Y} = \\sigma(w^TX + b)$\n",
    "* 把计算结果转化成0(< 0.5)或1(>=0.5)"
   ]
  },
  {
   "cell_type": "code",
   "execution_count": 16,
   "metadata": {},
   "outputs": [],
   "source": [
    "def predict(w, b, X):\n",
    "    \"\"\"\n",
    "    Arguments:\n",
    "    w -- weights, a numpy array of size (num_px * num_px * 3, 1)\n",
    "    b -- bias, a scalar\n",
    "    X -- data of size (num_px * num_px * 3, number of examples)\n",
    "    \n",
    "    Returns:\n",
    "    Y_prediction -- a numpy array (vector) containing all predictions (0/1) for the examples in X\n",
    "    \"\"\"\n",
    "    \n",
    "    m = X.shape[1]\n",
    "    Y_predict = np.zeros((1, m))\n",
    "    A = sigmoid(np.dot(w.T, X) + b )\n",
    "    Y_predict[A >= 0.5] = 1\n",
    "    Y_predict[A < 0.5] = 0\n",
    "    \n",
    "    assert(Y_predict.shape == (1, m))\n",
    "    \n",
    "    return Y_predict\n"
   ]
  },
  {
   "cell_type": "code",
   "execution_count": 17,
   "metadata": {},
   "outputs": [
    {
     "name": "stdout",
     "output_type": "stream",
     "text": [
      "predictions = [[ 1.  1.  0.]]\n"
     ]
    }
   ],
   "source": [
    "w = np.array([[0.1124579],[0.23106775]])\n",
    "b = -0.3\n",
    "X = np.array([[1.,-1.1,-3.2],[1.2,2.,0.1]])\n",
    "print (\"predictions = \" + str(predict(w, b, X)))"
   ]
  },
  {
   "cell_type": "markdown",
   "metadata": {},
   "source": [
    "## 5 - 合并所有的函数到一个 model 中\n",
    "\n",
    "使用 model 函数 合并以上几个函数调用步骤"
   ]
  },
  {
   "cell_type": "code",
   "execution_count": 18,
   "metadata": {},
   "outputs": [],
   "source": [
    "def model(X_train, Y_train, X_test, Y_test, num_iterations = 2000, learning_rate = 0.5, print_cost = False):\n",
    "    \n",
    "    # 初始化参数 w, b\n",
    "    w = np.zeros((X_train.shape[0], 1))\n",
    "    # w = np.random.random_sample((X_train.shape[0], 1))  # 使用随机初始化\n",
    "    b = 0\n",
    "    \n",
    "    # 梯度下降优化\n",
    "    params, grads, costs = optimize(w, b, X_train, Y_train, num_iterations, learning_rate, print_cost)\n",
    "    \n",
    "    w = params['w']\n",
    "    b = params['b']\n",
    "    \n",
    "    Y_predictions_test = predict(w, b, X_test)\n",
    "    Y_predictions_train = predict(w, b, X_train)\n",
    "    \n",
    "    print('train set ac rate: {} %'.format(100 - np.mean(np.abs(Y_predictions_train - Y_train)) * 100))\n",
    "    print('test set ac rate: {} %'.format(100 - np.mean(np.abs(Y_predictions_test - Y_test)) * 100))\n",
    "    \n",
    "    d = {\"costs\": costs,\n",
    "         \"Y_prediction_test\": Y_predictions_test, \n",
    "         \"Y_prediction_train\" : Y_predictions_train, \n",
    "         \"w\" : w, \n",
    "         \"b\" : b,\n",
    "         \"learning_rate\" : learning_rate,\n",
    "         \"num_iterations\": num_iterations}\n",
    "    \n",
    "    return d\n",
    "    "
   ]
  },
  {
   "cell_type": "code",
   "execution_count": 26,
   "metadata": {},
   "outputs": [
    {
     "name": "stdout",
     "output_type": "stream",
     "text": [
      "cost after 0 iteration: 0.693147\n",
      "cost after 100 iteration: 1.172041\n",
      "cost after 200 iteration: 2.227245\n",
      "cost after 300 iteration: 4.606382\n",
      "cost after 400 iteration: 0.945747\n",
      "cost after 500 iteration: 1.850345\n",
      "cost after 600 iteration: 0.883472\n",
      "cost after 700 iteration: 0.768859\n",
      "cost after 800 iteration: 1.776313\n",
      "cost after 900 iteration: 0.992178\n",
      "cost after 1000 iteration: 0.940111\n",
      "cost after 1100 iteration: 1.832893\n",
      "cost after 1200 iteration: 1.975511\n",
      "cost after 1300 iteration: 1.036321\n",
      "cost after 1400 iteration: 0.712715\n",
      "cost after 1500 iteration: 0.843606\n",
      "cost after 1600 iteration: 1.499282\n",
      "cost after 1700 iteration: 0.848421\n",
      "cost after 1800 iteration: 4.255733\n",
      "cost after 1900 iteration: 0.857426\n",
      "train set ac rate: 57.85536159600998 %\n",
      "test set ac rate: 50.09940357852883 %\n"
     ]
    }
   ],
   "source": [
    "d = model(train_set_x, train_set_y, test_set_x, test_set_y, num_iterations = 2000, learning_rate = 0.01, print_cost = True)"
   ]
  },
  {
   "cell_type": "code",
   "execution_count": 23,
   "metadata": {},
   "outputs": [
    {
     "name": "stdout",
     "output_type": "stream",
     "text": [
      "y= 1.0\n"
     ]
    },
    {
     "data": {
      "image/png": "[encoded data removed]",
      "text/plain": [
       "<Figure size 432x288 with 1 Axes>"
      ]
     },
     "metadata": {},
     "output_type": "display_data"
    }
   ],
   "source": [
    "y_prediction_test = d['Y_prediction_test']\n",
    "index = 110\n",
    "plt.imshow(test_set_x_orig[index])\n",
    "print(\"y=\", y_prediction_test[0][index])"
   ]
  },
  {
   "cell_type": "markdown",
   "metadata": {},
   "source": [
    "打印出训练过程的 cost 曲线"
   ]
  },
  {
   "cell_type": "code",
   "execution_count": 24,
   "metadata": {},
   "outputs": [
    {
     "data": {
      "image/png": "[encoded data removed]",
      "text/plain": [
       "<Figure size 432x288 with 1 Axes>"
      ]
     },
     "metadata": {},
     "output_type": "display_data"
    }
   ],
   "source": [
    "costs = np.squeeze(d['costs'])\n",
    "plt.plot(costs)\n",
    "plt.ylabel('cost')\n",
    "plt.xlabel('iteration (per handreds)')\n",
    "plt.title('learning rate:' + str(d['learning_rate']))\n",
    "plt.show()"
   ]
  },
  {
   "cell_type": "markdown",
   "metadata": {},
   "source": [
    "**learning rate**的选择"
   ]
  },
  {
   "cell_type": "code",
   "execution_count": 27,
   "metadata": {},
   "outputs": [
    {
     "name": "stdout",
     "output_type": "stream",
     "text": [
      "learning rate is: 0.005\n",
      "cost after 0 iteration: 0.693147\n",
      "cost after 100 iteration: 0.773666\n",
      "cost after 200 iteration: 0.570001\n",
      "cost after 300 iteration: 0.721470\n",
      "cost after 400 iteration: 0.564436\n",
      "cost after 500 iteration: 1.730967\n",
      "cost after 600 iteration: 1.159579\n",
      "cost after 700 iteration: 0.557994\n",
      "cost after 800 iteration: 0.895563\n",
      "cost after 900 iteration: 1.786462\n",
      "cost after 1000 iteration: 0.574079\n",
      "cost after 1100 iteration: 0.574239\n",
      "cost after 1200 iteration: 0.581875\n",
      "cost after 1300 iteration: 0.675478\n",
      "cost after 1400 iteration: 0.680229\n",
      "train set ac rate: 76.20947630922693 %\n",
      "test set ac rate: 81.31212723658052 %\n",
      "\n",
      "-------------------------------------------------------\n",
      "\n",
      "learning rate is: 0.0005\n",
      "cost after 0 iteration: 0.693147\n",
      "cost after 100 iteration: 0.593661\n",
      "cost after 200 iteration: 0.580156\n",
      "cost after 300 iteration: 0.573232\n",
      "cost after 400 iteration: 0.568594\n",
      "cost after 500 iteration: 0.565051\n",
      "cost after 600 iteration: 0.562137\n",
      "cost after 700 iteration: 0.559626\n",
      "cost after 800 iteration: 0.557394\n",
      "cost after 900 iteration: 0.555368\n",
      "cost after 1000 iteration: 0.553501\n",
      "cost after 1100 iteration: 0.551763\n",
      "cost after 1200 iteration: 0.550131\n",
      "cost after 1300 iteration: 0.548592\n",
      "cost after 1400 iteration: 0.547131\n",
      "train set ac rate: 75.06234413965088 %\n",
      "test set ac rate: 83.1013916500994 %\n",
      "\n",
      "-------------------------------------------------------\n",
      "\n",
      "learning rate is: 5e-05\n",
      "cost after 0 iteration: 0.693147\n",
      "cost after 100 iteration: 0.629363\n",
      "cost after 200 iteration: 0.622724\n",
      "cost after 300 iteration: 0.617062\n",
      "cost after 400 iteration: 0.612205\n",
      "cost after 500 iteration: 0.608013\n",
      "cost after 600 iteration: 0.604372\n",
      "cost after 700 iteration: 0.601191\n",
      "cost after 800 iteration: 0.598394\n",
      "cost after 900 iteration: 0.595919\n",
      "cost after 1000 iteration: 0.593715\n",
      "cost after 1100 iteration: 0.591741\n",
      "cost after 1200 iteration: 0.589963\n",
      "cost after 1300 iteration: 0.588351\n",
      "cost after 1400 iteration: 0.586883\n",
      "train set ac rate: 72.11970074812967 %\n",
      "test set ac rate: 79.12524850894633 %\n",
      "\n",
      "-------------------------------------------------------\n",
      "\n"
     ]
    },
    {
     "data": {
      "image/png": "[encoded data removed]",
      "text/plain": [
       "<Figure size 432x288 with 1 Axes>"
      ]
     },
     "metadata": {},
     "output_type": "display_data"
    }
   ],
   "source": [
    "learning_rates = [0.005, 0.0005, 0.00005]\n",
    "models = {}\n",
    "for i in learning_rates:\n",
    "    print (\"learning rate is: \" + str(i))\n",
    "    models[str(i)] = model(train_set_x, train_set_y, test_set_x, test_set_y, num_iterations = 1500, learning_rate = i, print_cost = True)\n",
    "    print ('\\n' + \"-------------------------------------------------------\" + '\\n')\n",
    "\n",
    "for i in learning_rates:\n",
    "    plt.plot(np.squeeze(models[str(i)][\"costs\"]), label= str(models[str(i)][\"learning_rate\"]))\n",
    "\n",
    "plt.ylabel('cost')\n",
    "plt.xlabel('iterations (hundreds)')\n",
    "\n",
    "legend = plt.legend(loc='upper center', shadow=True)\n",
    "frame = legend.get_frame()\n",
    "frame.set_facecolor('0.90')\n",
    "plt.show()"
   ]
  },
  {
   "cell_type": "code",
   "execution_count": null,
   "metadata": {},
   "outputs": [],
   "source": []
  }
 ],
 "metadata": {
  "kernelspec": {
   "display_name": "Python 3",
   "language": "python",
   "name": "python3"
  },
  "language_info": {
   "codemirror_mode": {
    "name": "ipython",
    "version": 3
   },
   "file_extension": ".py",
   "mimetype": "text/x-python",
   "name": "python",
   "nbconvert_exporter": "python",
   "pygments_lexer": "ipython3",
   "version": "3.6.2"
  }
 },
 "nbformat": 4,
 "nbformat_minor": 2
}
