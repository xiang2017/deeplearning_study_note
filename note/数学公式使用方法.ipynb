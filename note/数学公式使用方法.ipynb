{
 "cells": [
  {
   "cell_type": "markdown",
   "metadata": {},
   "source": [
    "LaTeX的详细使用方法可以参考[网站](http://latex.91maths.com/)\n",
    "\n",
    "在 markdown 中使用 LaTeX 公式时，需要用 \\$ 符号包围住公式，否则会解析成正常文本。多行公式使用两个 \\$ 符号包裹。\n",
    "\n",
    "## 代数\n",
    "### 上标与下标\n",
    "$a^b$ => a^b\n",
    "\n",
    "$a_b$ => a_b\n",
    "### 分数\n",
    "$\\frac{a}{b}$ => \\frac{a}{b}\n",
    "### 开方\n",
    "$\\sqrt{a^2 + b^2}$ => \\sqrt{a^2 + b^2}\n",
    "\n",
    "$\\sqrt[2]{a^2 + b^2}$ => \\sqrt\\[2]{a^2 + b^2}\n",
    "\n",
    "## 微积分\n",
    "$\\frac{\\partial a}{\\partial z}$ => \\frac{\\partial a}{\\partial z}\n",
    "\n",
    "$\\frac{d}{dx}c^n=nx^{n-1}$ => \\frac{d}{dx}c^n=nx^{n-1}\n",
    "\n",
    "$\\int_0^{10}x$ => \\int_0^{10}x\n",
    "\n",
    "## 统计学\n",
    "### 求和级数\n",
    "$\\sum_{i=0}^{n}X_i$ => \\sum_{i=0}^{n}X_i\n",
    "### 省略号\n",
    "$X_1,\\cdots,X_2$ => X_1,\\cdots,X_2\n",
    "### 求积级数\n",
    "$\\prod_{i=1}^{n}X_i$ => \\prod_{i=1}^{n}X_i\n",
    "\n",
    "## 矩阵\n",
    "\n",
    "### 简单矩阵\n",
    "$$\\begin{pmatrix}\n",
    "a_1 & a_2 \\\\\n",
    "b_1 & b_2 \\\\\n",
    "\\end{pmatrix}$$ => \n",
    "\\\\begin{pmatrix}\n",
    "a_1 & a_2 \\\\\n",
    "b_1 & b_2 \\\\\n",
    "\\\\end{pmatrix}\n",
    "\n",
    "### 更多矩阵语法\n",
    "\\begin{pmatrix}\n",
    "a_{11} & \\cdots & a_{1n}\\\\\n",
    "\\vdots & \\ddots & \\vdots\\\\\n",
    "a_{m1} & \\cdots & a_{mn}\n",
    "\\end{pmatrix}\n",
    "\n",
    "## 一些罗马字符\n",
    "\n",
    "$\\alpha \\beta \\gamma \\delta \\epsilon \\varepsilon \\zeta \\eta \\theta \\pi \\phi $ => \\alpha \\beta \\gamma \\delta \\epsilon \\varepsilon \\zeta \\eta \\theta \\pi \\phi "
   ]
  }
 ],
 "metadata": {
  "kernelspec": {
   "display_name": "Python 3",
   "language": "python",
   "name": "python3"
  },
  "language_info": {
   "codemirror_mode": {
    "name": "ipython",
    "version": 3.0
   },
   "file_extension": ".py",
   "mimetype": "text/x-python",
   "name": "python",
   "nbconvert_exporter": "python",
   "pygments_lexer": "ipython3",
   "version": "3.6.2"
  }
 },
 "nbformat": 4,
 "nbformat_minor": 0
}