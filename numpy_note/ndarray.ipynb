{
 "cells": [
  {
   "cell_type": "markdown",
   "metadata": {},
   "source": [
    "## ndarray\n",
    "\n",
    "`ndarray`是相同类型和（占用内存）大小的元素的多维集合容器。它的维度和每一维的元素数量是由它的`shape`决定，`shape`是 N 个正整数组成的元组。\n",
    "\n",
    "它像python中的其他容器对象一样，可以使用下标或者切片操作。\n",
    "\n",
    "不同的`ndarray`可以共享相同的数据，也就是说，在一个`ndarray`中做的修改在另一个`ndarray`中可能是可见的。ndarray也可以操作 python `string`类型或者其他引用了`buffer`或者`array`接口的对象的内存。\n",
    "\n",
    "举个栗子："
   ]
  },
  {
   "cell_type": "code",
   "execution_count": 2,
   "metadata": {},
   "outputs": [
    {
     "name": "stdout",
     "output_type": "stream",
     "text": [
      "<class 'numpy.ndarray'>\n",
      "(2, 3)\n",
      "int32\n",
      "6\n",
      "[2 5]\n",
      "[[1 9 3]\n",
      " [4 5 6]]\n"
     ]
    }
   ],
   "source": [
    "import numpy as np\n",
    "\n",
    "x = np.array([[1,2,3],[4,5,6]], np.int32)\n",
    "print(type(x))\n",
    "print(x.shape)\n",
    "print(x.dtype)\n",
    "\n",
    "# 可以使用下标索引、切片操作\n",
    "print(x[1,2])  # 第二行，第三列，6\n",
    "\n",
    "# 切片操作，得到的 y 是 x 的一个视图\n",
    "y = x[:,1]\n",
    "print(y)\n",
    "\n",
    "# 修改 y，则 x 也会被修改\n",
    "y[0] = 9\n",
    "print(x)"
   ]
  },
  {
   "cell_type": "markdown",
   "metadata": {},
   "source": [
    "## 内存模型\n",
    "\n",
    "`ndarray`的数据部分由一串连续的一维内存区域组成，它的 shape 有 N 个 integer 定义。\n",
    "每个元素的大小由与`ndarray`相关联的 `data-type object` 决定。"
   ]
  },
  {
   "cell_type": "markdown",
   "metadata": {},
   "source": [
    "## 属性\n",
    "\n",
    "### 内存模型相关\n",
    "\n",
    "下面这些属性包含了ndarray数据在内存中的布局信息\n",
    "\n",
    "`ndarray.flags`，`ndarray.shape`，`ndarray.strides`，`ndarray.ndim`，`ndarray.data`，`ndarray.size`，`ndarray.itemsize`，`ndarray.nbytes`，`ndarray.base`\n",
    "\n",
    "例子："
   ]
  },
  {
   "cell_type": "code",
   "execution_count": 30,
   "metadata": {},
   "outputs": [
    {
     "name": "stdout",
     "output_type": "stream",
     "text": [
      "[[1 2 3 4 5]\n",
      " [5 6 7 8 5]\n",
      " [5 6 7 8 5]]\n",
      "flags:\n",
      "  C_CONTIGUOUS : True\n",
      "  F_CONTIGUOUS : False\n",
      "  OWNDATA : True\n",
      "  WRITEABLE : True\n",
      "  ALIGNED : True\n",
      "  UPDATEIFCOPY : False\n",
      "shape: (3, 5)\n",
      "strides: (20, 4)\n",
      "ndim: 2\n",
      "data: <memory at 0x10ef26ea0>\n",
      "size: 15\n",
      "itemsize: 4\n",
      "nbytes: 60\n",
      "base: None\n"
     ]
    }
   ],
   "source": [
    "x = np.array([[1,2,3,4,5],[5,6,7,8,5],[5,6,7,8,5]], np.int32)\n",
    "\n",
    "print(x)\n",
    "\n",
    "print('flags:')\n",
    "print(x.flags)\n",
    "\n",
    "print('shape:', x.shape)   # 表示数组维度的元组\n",
    "\n",
    "print('strides:', x.strides)  # 穿个每个数组时跨越的字节数，每个 item 的字节数\n",
    "\n",
    "print('ndim:', x.ndim)     # 数组维度数量，2维数组\n",
    "\n",
    "print('data:', x.data)     # data 的起始位置\n",
    "\n",
    "print('size:', x.size)     # 元素数量\n",
    "\n",
    "print('itemsize:', x.itemsize) # 每个元素占的字节数\n",
    "\n",
    "print('nbytes:', x.nbytes)     # 元素占的总字节数\n",
    "\n",
    "print('base:', x.base)         # 如果数据类型是其他的 python 对象类型，则返回该类型"
   ]
  },
  {
   "cell_type": "markdown",
   "metadata": {},
   "source": [
    "### Data type\n",
    "可以通过 dtype 属性获取"
   ]
  },
  {
   "cell_type": "code",
   "execution_count": 31,
   "metadata": {},
   "outputs": [
    {
     "name": "stdout",
     "output_type": "stream",
     "text": [
      "dtype: int32\n"
     ]
    }
   ],
   "source": [
    "print('dtype:', x.dtype)"
   ]
  },
  {
   "cell_type": "markdown",
   "metadata": {},
   "source": [
    "### 其他属性\n",
    "\n",
    "`ndarray.T`，`ndarray.real`，`ndarray.imag`，`ndarray.flat`，`ndarray.ctypes`"
   ]
  },
  {
   "cell_type": "code",
   "execution_count": 48,
   "metadata": {},
   "outputs": [
    {
     "name": "stdout",
     "output_type": "stream",
     "text": [
      "T: [[1 5 5]\n",
      " [2 6 6]\n",
      " [3 7 7]\n",
      " [4 8 8]\n",
      " [5 5 5]]\n",
      "y: [1 2 3]\n",
      "y_T: [1 2 3]\n",
      "real: [[1 2 3 4 5]\n",
      " [5 6 7 8 5]\n",
      " [5 6 7 8 5]]\n",
      "imag: [[0 0 0 0 0]\n",
      " [0 0 0 0 0]\n",
      " [0 0 0 0 0]]\n",
      "flat: <numpy.flatiter object at 0x7fe8659dd800>\n",
      "1\n",
      "2\n",
      "3\n",
      "4\n",
      "5\n",
      "5\n",
      "6\n",
      "7\n",
      "8\n",
      "5\n",
      "5\n",
      "6\n",
      "7\n",
      "8\n",
      "5\n",
      "ctypes: <numpy.core._internal._ctypes object at 0x10f182780>\n"
     ]
    }
   ],
   "source": [
    "print('T:', x.T)    # 矩阵的转置\n",
    "\n",
    "y = np.array([1, 2, 3], np.int32)    # 如果 ndarray.ndim < 2 则 ndarray.T 是它自身\n",
    "print('y:', y)\n",
    "print('y_T:', y.T)\n",
    "\n",
    "print('real:', x.real)\n",
    "print('imag:', x.imag)\n",
    "\n",
    "print('flat:', x.flat)               # ndarray 的一维可迭代对象\n",
    "for i in x.flat:\n",
    "    print(i)\n",
    "print('ctypes:', x.ctypes)"
   ]
  },
  {
   "cell_type": "markdown",
   "metadata": {},
   "source": [
    "## 数组方法\n",
    "\n",
    "数组的方法：\n",
    "\n",
    "一下部分方法除了可以使用 np.xx 调用之外，也可以作为成员方法调用，ndarray.xx\n",
    "\n",
    "`all`，`any`，`argmax`，`argmin`，`argpartition`，`argsort`，`choose`，`clip`，`compress`，`copy`，`cumprod`，`cumsum`，`disgonal`，`imag`，`max`, `mean`, `min`, `nonzero`, `partition`, `prod`, `ptp`, `put`, `ravel`, `real`, `repeat`, `reshape`, `round`, `searchsorted`, `sort`, `squeeze`, `std`, `sum`, `swapaxes`, `take`, `trace`, `transpose`, `var-方差`\n",
    "\n",
    "方法 | 备注\n",
    "----|----\n",
    "`all` | 所有为 True，则返回True\n",
    "`any` | 只要有 True，则返回True\n",
    "`argmax` | 最大元素下标\n",
    "`argmin` | 最小元素下标\n",
    "`argpartition` | ...\n",
    "`argsort` | 返回排好序数组的值在原数组中的下标\n",
    "`choose` | 把第一个参数数组作为下标，从第二个数组中选取元素，组成新的数组\n",
    "`clip` | 使用给定的 min 和 max 把数据更改成在 min-max 之间\n",
    "`compress` | 根据第二个数组，摘取第一个数组中的数据\n",
    "`copy` | 复制数组，不共享数据\n",
    "`cumprod` | 累计乘积，组成新数组\n",
    "`cumsum` | 累计求和，组成新数组\n",
    "`disgonal` | 斜对角线组成的数组\n",
    "`imag`, `real` | 返回数据的虚数部分组成的数组，real 为实数部分\n",
    "`max`, `min`, `mean` | 最大，最小，平均数\n",
    "`nonezero` | 返回非0数据的下标\n",
    "`partition` | ..\n",
    "`prod`,`sum` | 返回乘积，和\n",
    "`ptp` | peak to peak，最大与最小值之差\n",
    "`put` | 使用给定的值替换数组中的元素\n",
    "`ravel` | 返回临近扁平化数组（降维）\n",
    "`repeat` | 使用重复数据的方式构造数组\n",
    "`reshape` | 重新设定数组的形状，要保证 d1*d2*...dn = new_d1*new_d2*new_dm\n",
    "`round` | 四舍五入\n",
    "`searchsorted` | 找出在数组顺序不变的情况下插入数据的下标\n",
    "`sort` | 排序\n",
    "`squeeze` | 移出一维维度，比如[[1],[2],[3]] => [1, 2, 3]\n",
    "`std`，`var` | 标准差，方差\n",
    "`swapaxes` | 交换维度\n",
    "`take` | 根据给定的 indeces 从数组中选取数据\n",
    "`trace` | 返回斜对角元素之和\n",
    "`transpose` | 转置，同 ndarray.T 属性"
   ]
  },
  {
   "cell_type": "code",
   "execution_count": 35,
   "metadata": {},
   "outputs": [
    {
     "name": "stdout",
     "output_type": "stream",
     "text": [
      "False\n",
      "True\n",
      "True\n",
      "--\n",
      "argmax:\n",
      "[[0 1 2]\n",
      " [3 4 5]]\n",
      "5\n",
      "[1 1 1]\n",
      "[2 2]\n",
      "--\n",
      "argsort:\n",
      "[1 3 0 2]\n",
      "--\n",
      "choose:\n",
      "[20 31 12  3]\n",
      "[20 31 12  3]\n",
      "--\n",
      "clip:\n",
      "[1 1 2 3 4 5 6 7 8 8]\n",
      "--\n",
      "condition:\n",
      "[[1 2]]\n",
      "[[1]\n",
      " [3]\n",
      " [5]]\n",
      "--\n",
      "copy:\n",
      "[[1 2]\n",
      " [3 4]\n",
      " [5 6]]\n",
      "--\n",
      "cumprod，cumsum:\n",
      "[  1   2   6  24 120 720]\n",
      "[[ 1  2]\n",
      " [ 3  8]\n",
      " [15 48]]\n",
      "[ 1  3  6 10 15 21]\n",
      "[[ 1  2]\n",
      " [ 4  6]\n",
      " [ 9 12]]\n",
      "[[0 1]\n",
      " [2 3]\n",
      " [4 5]\n",
      " [6 7]\n",
      " [8 9]]\n"
     ]
    }
   ],
   "source": [
    "print(np.all([[True, False], [True, True]])) # np.all ，所有数据为 True 则为 True\n",
    "print(np.all([True, True]))\n",
    "\n",
    "print(np.any([[True, False], [True, True]])) # np.any ，只有要为 True 的数据，则为 True\n",
    "\n",
    "a = np.arange(6).reshape(2, 3)\n",
    "print('--\\nargmax:')\n",
    "print(a)\n",
    "print(np.argmax(a))               # argmax 返回最大元素的下标，如果未指定维度，则返回所有数据中最大元素的下标\n",
    "print(np.argmax(a, axis=0))       # 指定维度，返回最大元素下标\n",
    "print(np.argmax(a, axis=1))\n",
    "\n",
    "a = np.array([3, 1, 4, 2])\n",
    "print('--\\nargsort:')\n",
    "print(np.argsort(a))              # 返回一个数组，数组的值是“排好序后该位置的数据在原数组中的下标”\n",
    "\n",
    "# 构造出来的数组为 [a[2][0], a[3][1], a[1][2], a[0][3]]\n",
    "print('--\\nchoose:')\n",
    "print(np.choose([2, 3, 1, 0],   \n",
    "                [[0, 1, 2, 3], [10, 11, 12, 13], [20, 21, 22, 23], [30, 31, 32, 33]]))\n",
    "\n",
    "# 如果下标超出数组大小，则根据 mode 决定表现形式\n",
    "# mode='raise' 会抛出异常，为'clip'，如果小于0，则为0，如果大于 length ，则为 length - 1，为 warp，则为 index%length\n",
    "# 构造出来的数组为 [a[2][0], a[3][1], a[1][2], a[0][3]]\n",
    "print(np.choose([2, 4, 1, 0],[[0, 1, 2, 3], [10, 11, 12, 13], [20, 21, 22, 23], [30, 31, 32, 33]], mode='clip'))\n",
    "\n",
    "# clip 后面两个参数分别是 min, max，可以是数组。如果小于 min，则返回的数组该位置为 min，如果大于 max，则返回该位置为 max\n",
    "print(\"--\\nclip:\")\n",
    "print(np.clip(np.arange(10), 1, 8))\n",
    "\n",
    "# compress 根据给出的条件（condition）对 array 做切片\n",
    "print(\"--\\ncondition:\")\n",
    "a = np.array([[1, 2], [3, 4], [5, 6]])\n",
    "print(np.compress([True, False, False], a, axis=0))  # 在 第一维上切片，只获取第一个数组\n",
    "print(np.compress([True, False], a, axis=1))         # 在 第二维上切片，只获取每个数组的第一个元素\n",
    "\n",
    "# copy 同 np.array(a, copy=True)\n",
    "print(\"--\\ncopy:\")\n",
    "z = np.copy(a)\n",
    "z[0] = 100          ## 不会更改原数组\n",
    "print(a)\n",
    "\n",
    "# cumprod 返回数组在所给维度上的累积乘积\n",
    "print(\"--\\ncumprod，cumsum:\")\n",
    "print(np.cumprod(a))\n",
    "print(np.cumprod(a, axis=0))\n",
    "print(np.cumsum(a))\n",
    "print(np.cumsum(a, axis=0))\n",
    "\n",
    "a = np.arange(10)\n",
    "print(np.reshape(a, (5, 2)))"
   ]
  },
  {
   "cell_type": "code",
   "execution_count": 38,
   "metadata": {},
   "outputs": [
    {
     "name": "stdout",
     "output_type": "stream",
     "text": [
      "[1 2 3]\n"
     ]
    }
   ],
   "source": [
    "# squeeze\n",
    "a = np.array([[1], [2], [3]])\n",
    "print(np.squeeze(a))"
   ]
  },
  {
   "cell_type": "markdown",
   "metadata": {},
   "source": [
    "### 数组转变\n",
    "\n",
    "方法 | 备注\n",
    "----|----\n",
    "`item` | 索引数组中的元素\n",
    "`tolist` | 返回一个列表 list\n",
    "`itemset` | 设置数组中的元素，类似于 put,但是只能设置一个元素\n",
    "`tostring` | 转化成 python bytes\n",
    "`tofile` | 转换成字符串或者二进制，存储到文件中\n",
    "`dump` | dump 到文件\n",
    "`dumps` | dump 出字符串\n",
    "`astype` | 转换成其他类型的数据\n",
    "`byteswap` | ..\n",
    "`copy` | 拷贝数组，数据不共享\n",
    "`view` | 返回数组的视图，数据共享\n",
    "`setflags` | Set array flags WRITEABLE, ALIGNED, (WRITEBACKIFCOPY and UPDATEIFCOPY), respectively.\n",
    "`fill` | 使用一个变量填充数组"
   ]
  },
  {
   "cell_type": "code",
   "execution_count": 53,
   "metadata": {},
   "outputs": [
    {
     "name": "stdout",
     "output_type": "stream",
     "text": [
      "None\n",
      "[[0 0 0]\n",
      " [0 0 0]]\n"
     ]
    }
   ],
   "source": [
    "a = np.random.randint(10, size=(2, 3))\n",
    "print(a.fill(0))\n",
    "print(a)"
   ]
  },
  {
   "cell_type": "markdown",
   "metadata": {},
   "source": [
    "### 算术，矩阵乘法，比较\n",
    "\n",
    "np 几乎重载了所有的运算符。\n",
    "\n",
    "### 特殊方法\n",
    "\n",
    "`__copy__`，`__deepcopy__`，`__new__`，`__reduce__`，`__setstate__`，`__array__`，`__array_wrap__`，`__len__`，`__getitem__`，`__setitem__`，`__contains__`，`__int__`，`__long__`，`__float__`，`__hex__`，`__oct__`，`__str__`，`__repr__`"
   ]
  },
  {
   "cell_type": "code",
   "execution_count": 58,
   "metadata": {},
   "outputs": [
    {
     "name": "stdout",
     "output_type": "stream",
     "text": [
      "[[1 4]\n",
      " [0 0]]\n"
     ]
    }
   ],
   "source": [
    "a = np.array([[1, 2], [3, 4]])\n",
    "b = np.array([[1, 2], [0,0]])\n",
    "print(a * b)"
   ]
  },
  {
   "cell_type": "code",
   "execution_count": null,
   "metadata": {},
   "outputs": [],
   "source": []
  }
 ],
 "metadata": {
  "kernelspec": {
   "display_name": "Python 3",
   "language": "python",
   "name": "python3"
  },
  "language_info": {
   "codemirror_mode": {
    "name": "ipython",
    "version": 3
   },
   "file_extension": ".py",
   "mimetype": "text/x-python",
   "name": "python",
   "nbconvert_exporter": "python",
   "pygments_lexer": "ipython3",
   "version": "3.6.2"
  }
 },
 "nbformat": 4,
 "nbformat_minor": 2
}
